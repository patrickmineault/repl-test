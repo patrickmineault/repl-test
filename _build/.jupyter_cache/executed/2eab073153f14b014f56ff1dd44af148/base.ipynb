{
 "cells": [
  {
   "cell_type": "code",
   "execution_count": 1,
   "metadata": {},
   "outputs": [],
   "source": [
    "cache = {}\n",
    "def fib(n):\n",
    "  \"\"\"\n",
    "  Calculates the n'th Fibonacci number.\n",
    "  \"\"\"\n",
    "  global cache\n",
    "  if n in cache:\n",
    "    return cache[n]\n",
    "\n",
    "  if n >= 2:\n",
    "    return fib(n-1) + fib(n-2)\n",
    "  else:\n",
    "    return 1"
   ]
  }
 ],
 "metadata": {
  "language_info": {
   "codemirror_mode": {
    "name": "ipython",
    "version": 3
   },
   "file_extension": ".py",
   "mimetype": "text/x-python",
   "name": "python",
   "nbconvert_exporter": "python",
   "pygments_lexer": "ipython3",
   "version": "3.7.11"
  }
 },
 "nbformat": 4,
 "nbformat_minor": 2
}